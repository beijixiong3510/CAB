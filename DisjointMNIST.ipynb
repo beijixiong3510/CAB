{
 "cells": [
  {
   "cell_type": "code",
   "execution_count": 1,
   "metadata": {
    "collapsed": true
   },
   "outputs": [],
   "source": [
    "import tensorflow as tf\n",
    "import numpy as np\n",
    "from tensorflow.contrib.learn.python.learn.datasets.mnist import DataSet\n",
    "from tensorflow.contrib.learn.python.learn.datasets import base\n",
    "from tensorflow.python.framework import dtypes\n",
    "import matplotlib.pyplot as plt\n",
    "import matplotlib.image as mpimg\n",
    "from IPython import display\n",
    "from copy import deepcopy\n",
    "%matplotlib inline\n",
    "from tensorflow.examples.tutorials.mnist import input_data\n",
    "import logic\n"
   ]
  },
  {
   "cell_type": "code",
   "execution_count": 2,
   "metadata": {
    "collapsed": true
   },
   "outputs": [],
   "source": [
    "def sigma(x):\n",
    "    return tf.div(tf.constant(1.0),\n",
    "                  tf.add(tf.constant(1.0), tf.exp(tf.negative(x))))\n",
    "\n",
    "def sigmaprime(x):\n",
    "    return tf.multiply(sigma(x), tf.subtract(tf.constant(1.0), sigma(x)))"
   ]
  },
  {
   "cell_type": "code",
   "execution_count": 3,
   "metadata": {
    "collapsed": false
   },
   "outputs": [
    {
     "name": "stdout",
     "output_type": "stream",
     "text": [
      "Successfully downloaded train-images-idx3-ubyte.gz 9912422 bytes.\n",
      "Extracting MNIST_data/train-images-idx3-ubyte.gz\n",
      "Successfully downloaded train-labels-idx1-ubyte.gz 28881 bytes.\n",
      "Extracting MNIST_data/train-labels-idx1-ubyte.gz\n",
      "Successfully downloaded t10k-images-idx3-ubyte.gz 1648877 bytes.\n",
      "Extracting MNIST_data/t10k-images-idx3-ubyte.gz\n",
      "Successfully downloaded t10k-labels-idx1-ubyte.gz 4542 bytes.\n",
      "Extracting MNIST_data/t10k-labels-idx1-ubyte.gz\n"
     ]
    }
   ],
   "source": [
    "mnist = input_data.read_data_sets(\"MNIST_data/\", one_hot=True)"
   ]
  },
  {
   "cell_type": "code",
   "execution_count": 4,
   "metadata": {
    "collapsed": true
   },
   "outputs": [],
   "source": [
    "def split_mnist(mnist, cond):\n",
    "    sets = [\"train\", \"validation\", \"test\"]\n",
    "    sets_list = []\n",
    "    for set_name in sets:\n",
    "        this_set = getattr(mnist, set_name)\n",
    "        maxlabels = np.argmax(this_set.labels, 1)\n",
    "        sets_list.append(DataSet(this_set.images[cond(maxlabels),:], this_set.labels[cond(maxlabels)], \n",
    "                                 dtype=dtypes.uint8, reshape=False))\n",
    "    return base.Datasets(train=sets_list[0], validation=sets_list[1], test=sets_list[2])    "
   ]
  },
  {
   "cell_type": "code",
   "execution_count": 5,
   "metadata": {
    "collapsed": true
   },
   "outputs": [],
   "source": [
    "dataset04 = split_mnist(mnist, lambda x: x < 5)\n",
    "dataset59 = split_mnist(mnist, lambda x: (4 < x) & (x < 10))\n",
    "mnist_list = [dataset04, dataset59]"
   ]
  },
  {
   "cell_type": "code",
   "execution_count": 6,
   "metadata": {
    "collapsed": true
   },
   "outputs": [],
   "source": [
    "a_0 = tf.placeholder(tf.float32, [None, 784])\n",
    "y = tf.placeholder(tf.float32, [None, 10])\n",
    "\n",
    "middle = 800\n",
    "\n",
    "w_1 = tf.Variable(tf.truncated_normal([785, middle], stddev=0.1))\n",
    "w_2 = tf.Variable(tf.truncated_normal([middle+1, 10], stddev=0.1))\n",
    "\n",
    "w_old_1 = tf.Variable(tf.zeros([785, middle]))\n",
    "w_old_2 = tf.Variable(tf.zeros([middle+1, 10]))\n",
    "\n",
    "F_0 = tf.Variable(tf.eye(785))\n",
    "F_1 = tf.Variable(tf.eye(middle+1))\n",
    "\n",
    "\n",
    "ab_0 = tf.concat([a_0, tf.tile(tf.ones([1,1]), [tf.shape(a_0)[0], 1])], 1)\n",
    "z_1 = tf.matmul(ab_0, w_1)\n",
    "a_1 = sigma(z_1)\n",
    "ab_1 = tf.concat([a_1, tf.tile(tf.ones([1,1]), [tf.shape(a_1)[0], 1])], 1)\n",
    "z_2 = tf.matmul(ab_1, w_2)\n",
    "a_2 = sigma(z_2)\n",
    "\n",
    "\n",
    "diff = tf.subtract(a_2, y)\n",
    "\n",
    "\n",
    "reg2 = tf.Variable(0.005)\n",
    "reg1 = tf.Variable(0.005)\n",
    "\n",
    "d_z_2 = tf.multiply(diff, sigmaprime(z_2))\n",
    "dw_2 = tf.nn.l2_normalize(tf.matmul(tf.transpose(tf.matmul(ab_1,F_1)), d_z_2),0)\n",
    "\n",
    "inc_w_2 = tf.subtract(w_2, w_old_2)\n",
    "reg_w_2 = tf.multiply(reg2, inc_w_2)\n",
    "d_w_2 = tf.add(dw_2, reg_w_2)\n",
    "\n",
    "\n",
    "d_ab_1 = tf.matmul(d_z_2, tf.transpose(w_2))\n",
    "d_a_1 = d_ab_1[:, :-1]\n",
    "d_z_1 = tf.multiply(d_a_1, sigmaprime(z_1))\n",
    "dw_1 = tf.nn.l2_normalize(tf.matmul(tf.transpose(tf.matmul(ab_0,F_0)), d_z_1),0)\n",
    "\n",
    "\n",
    "inc_w_1 = tf.subtract(w_1, w_old_1)\n",
    "reg_w_1 = tf.multiply(reg1, inc_w_1)\n",
    "d_w_1 = tf.add(dw_1, reg_w_1)"
   ]
  },
  {
   "cell_type": "code",
   "execution_count": 7,
   "metadata": {
    "collapsed": true
   },
   "outputs": [],
   "source": [
    "eta = tf.constant(0.1)\n",
    "step = [\n",
    "    tf.assign(w_1,\n",
    "            tf.subtract(w_1, tf.multiply(eta, d_w_1)))\n",
    "\n",
    "  , tf.assign(w_2,\n",
    "            tf.subtract(w_2, tf.multiply(eta, d_w_2)))\n",
    "]\n",
    "\n",
    "acct_mat = tf.equal(tf.argmax(a_2, 1), tf.argmax(y, 1))\n",
    "acct_res = tf.reduce_sum(tf.cast(acct_mat, tf.float32))"
   ]
  },
  {
   "cell_type": "code",
   "execution_count": 8,
   "metadata": {
    "collapsed": true
   },
   "outputs": [],
   "source": [
    "config = tf.ConfigProto()\n",
    "config.gpu_options.allow_growth = True\n",
    "\n",
    "sess = tf.InteractiveSession(config=config)\n",
    "sess.run(tf.global_variables_initializer())\n",
    "\n",
    "A_0 = np.zeros([785, 785])\n",
    "A_1 = np.zeros([middle+1, middle+1])"
   ]
  },
  {
   "cell_type": "code",
   "execution_count": 9,
   "metadata": {
    "collapsed": false
   },
   "outputs": [
    {
     "name": "stdout",
     "output_type": "stream",
     "text": [
      "Training Disjoint MNIST 1\n",
      "660.0\n",
      "990.0\n",
      "990.0\n",
      "988.0\n",
      "991.0\n",
      "Accuracy on Current Dataset 0.9943568787701887\n",
      "Test on Previous Datasets:\n",
      "0.9943568787701887\n",
      "C0\n"
     ]
    },
    {
     "data": {
      "image/png": "[encoded data removed]",
      "text/plain": [
       "<matplotlib.figure.Figure at 0x11ce3acd0>"
      ]
     },
     "metadata": {},
     "output_type": "display_data"
    },
    {
     "name": "stdout",
     "output_type": "stream",
     "text": [
      "C1\n"
     ]
    },
    {
     "data": {
      "image/png": "[encoded data removed]",
      "text/plain": [
       "<matplotlib.figure.Figure at 0x120042750>"
      ]
     },
     "metadata": {},
     "output_type": "display_data"
    },
    {
     "name": "stdout",
     "output_type": "stream",
     "text": [
      "A\n"
     ]
    },
    {
     "data": {
      "image/png": "[encoded data removed]",
      "text/plain": [
       "<matplotlib.figure.Figure at 0x120180f90>"
      ]
     },
     "metadata": {},
     "output_type": "display_data"
    },
    {
     "name": "stdout",
     "output_type": "stream",
     "text": [
      "F\n"
     ]
    },
    {
     "data": {
      "image/png": "[encoded data removed]",
      "text/plain": [
       "<matplotlib.figure.Figure at 0x120a5ded0>"
      ]
     },
     "metadata": {},
     "output_type": "display_data"
    },
    {
     "name": "stdout",
     "output_type": "stream",
     "text": [
      "Training Disjoint MNIST 2\n",
      "0.0\n",
      "946.0\n",
      "950.0\n",
      "955.0\n",
      "957.0\n",
      "Accuracy on Current Dataset 0.9609133923061098\n",
      "Test on Previous Datasets:\n",
      "0.9365635337614322\n",
      "0.9609133923061098\n",
      "C0\n"
     ]
    },
    {
     "data": {
      "image/png": "[encoded data removed]",
      "text/plain": [
       "<matplotlib.figure.Figure at 0x120967950>"
      ]
     },
     "metadata": {},
     "output_type": "display_data"
    },
    {
     "name": "stdout",
     "output_type": "stream",
     "text": [
      "C1\n"
     ]
    },
    {
     "data": {
      "image/png": "[encoded data removed]",
      "text/plain": [
       "<matplotlib.figure.Figure at 0x120b23e10>"
      ]
     },
     "metadata": {},
     "output_type": "display_data"
    },
    {
     "name": "stdout",
     "output_type": "stream",
     "text": [
      "A\n"
     ]
    },
    {
     "data": {
      "image/png": "[encoded data removed]",
      "text/plain": [
       "<matplotlib.figure.Figure at 0x12031e990>"
      ]
     },
     "metadata": {},
     "output_type": "display_data"
    },
    {
     "name": "stdout",
     "output_type": "stream",
     "text": [
      "F\n"
     ]
    },
    {
     "data": {
      "image/png": "[encoded data removed]",
      "text/plain": [
       "<matplotlib.figure.Figure at 0x12035be10>"
      ]
     },
     "metadata": {},
     "output_type": "display_data"
    },
    {
     "name": "stdout",
     "output_type": "stream",
     "text": [
      "Final Total Accuracy: 0.9484\n"
     ]
    }
   ],
   "source": [
    "task_num = 2\n",
    "for j in xrange(task_num):\n",
    "    print \"Training Disjoint MNIST %d\" % (j+1)\n",
    "\n",
    "    for i in xrange(10000):\n",
    "        batch_xs, batch_ys = mnist_list[j].train.next_batch(300)\n",
    "\n",
    "        sess.run(step, feed_dict = {a_0: batch_xs, y: batch_ys})\n",
    "\n",
    "        if i % 1000 == 0:\n",
    "            res = sess.run(acct_res, feed_dict =\n",
    "                           {a_0:mnist_list[j].validation.images[:1000],\n",
    "                            y : mnist_list[j].validation.labels[:1000]})\n",
    "            print res\n",
    "            if res > 990:\n",
    "                break\n",
    "            elif (res > 955 and j==1):\n",
    "                break\n",
    "\n",
    "    updateW_old = [tf.assign(w_old_1, w_1), tf.assign(w_old_2, w_2)]\n",
    "    sess.run(updateW_old)\n",
    "\n",
    "\n",
    "    res = sess.run(acct_res, feed_dict =\n",
    "                           {a_0: mnist_list[j].test.images[:],\n",
    "                            y : mnist_list[j].test.labels[:]})\n",
    "    print \"Accuracy on Current Dataset\", res/mnist_list[j].test.labels.shape[0]\n",
    "\n",
    "\n",
    "    print \"Test on Previous Datasets:\" \n",
    "    for i in xrange(j+1):\n",
    "        res = sess.run(acct_res, feed_dict =\n",
    "                               {a_0: mnist_list[i].test.images[:],\n",
    "                                y : mnist_list[i].test.labels[:]})\n",
    "        print res/mnist_list[i].test.labels.shape[0]\n",
    "\n",
    "    a0_collection, _ = mnist_list[j].train.next_batch(1000)\n",
    "    ab0_collection = sess.run(ab_0, feed_dict = {a_0: a0_collection})\n",
    "\n",
    "    alpha = 9\n",
    "    R_a0 = (ab0_collection.T).dot(ab0_collection) / ab0_collection.shape[0]\n",
    "    U_a0, S_a0, _ = np.linalg.svd(R_a0)\n",
    "    S_C0 = (np.diag(S_a0).dot(np.linalg.inv(np.diag(S_a0) + alpha ** (-2) * np.eye(ab0_collection.shape[1]))))\n",
    "    Svec_C0 = np.diag(S_C0)\n",
    "\n",
    "\n",
    "    S0 = (Svec_C0 >= 0.5).astype(int)\n",
    "    C0 = U_a0.dot(np.diag(S0)).dot(U_a0.T)\n",
    "    x = np.linspace(0,1,785)\n",
    "    plt.plot(x,Svec_C0)\n",
    "    plt.plot(x,S0)\n",
    "    print \"C0\"\n",
    "    plt.show()\n",
    "\n",
    "\n",
    "    ab1_collection = sess.run(ab_1, feed_dict = {a_0: a0_collection})\n",
    "\n",
    "    alpha1 = 9\n",
    "    R_a1 = (ab1_collection.T).dot(ab1_collection) / ab1_collection.shape[0]\n",
    "    U_a1, S_a1, _ = np.linalg.svd(R_a1)\n",
    "    S_C1 = (np.diag(S_a1).dot(np.linalg.inv(np.diag(S_a1) + alpha1 ** (-2) * np.eye(ab1_collection.shape[1]))))\n",
    "    Svec_C1 = np.diag(S_C1)\n",
    "\n",
    "\n",
    "    S1 = (Svec_C1 >= 0.5).astype(int)\n",
    "    C1 = U_a1.dot(np.diag(S1)).dot(U_a1.T)\n",
    "    x1 = np.linspace(0,1,middle+1)\n",
    "    plt.plot(x1,Svec_C1)\n",
    "    plt.plot(x1,S1)\n",
    "    print \"C1\"\n",
    "    plt.show()\n",
    "\n",
    "\n",
    "\n",
    "    A_0 = logic.OR(C0, A_0)\n",
    "    A_1 = logic.OR(C1, A_1)\n",
    "    U_A0, S_A0, _ = np.linalg.svd(A_0)\n",
    "    U_A1, S_A1, _ = np.linalg.svd(A_1)\n",
    "\n",
    "    plt.plot(x, S_A0)\n",
    "    plt.plot(x1,S_A1)\n",
    "    print \"A\"\n",
    "    plt.show()\n",
    "\n",
    "    F0 = logic.NOT(A_0)\n",
    "    F1 = logic.NOT(A_1)\n",
    "\n",
    "    U_F0, S_F0, _ = np.linalg.svd(F0)\n",
    "    U_F1, S_F1, _ = np.linalg.svd(F1)\n",
    "    plt.plot(x, S_F0)\n",
    "    plt.plot(x1,S_F1)\n",
    "    print \"F\"\n",
    "    plt.show()\n",
    "\n",
    "\n",
    "    updateF = [tf.assign(F_0, tf.cast(F0, tf.float32)), tf.assign(F_1, tf.cast(F1, tf.float32))]\n",
    "    sess.run(updateF)\n",
    "\n",
    "res = sess.run(acct_res, feed_dict =\n",
    "                   {a_0: mnist.test.images[:],\n",
    "                    y : mnist.test.labels[:]})\n",
    "\n",
    "print \"Final Total Accuracy:\", res/mnist.test.labels.shape[0]"
   ]
  },
  {
   "cell_type": "code",
   "execution_count": null,
   "metadata": {
    "collapsed": true
   },
   "outputs": [],
   "source": []
  }
 ],
 "metadata": {
  "kernelspec": {
   "display_name": "Python 2",
   "language": "python",
   "name": "python2"
  },
  "language_info": {
   "codemirror_mode": {
    "name": "ipython",
    "version": 2
   },
   "file_extension": ".py",
   "mimetype": "text/x-python",
   "name": "python",
   "nbconvert_exporter": "python",
   "pygments_lexer": "ipython2",
   "version": "2.7.12"
  }
 },
 "nbformat": 4,
 "nbformat_minor": 0
}
